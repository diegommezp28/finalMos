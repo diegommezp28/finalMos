{
 "metadata": {
  "language_info": {
   "codemirror_mode": {
    "name": "ipython",
    "version": 3
   },
   "file_extension": ".py",
   "mimetype": "text/x-python",
   "name": "python",
   "nbconvert_exporter": "python",
   "pygments_lexer": "ipython3",
   "version": "3.8.8"
  },
  "orig_nbformat": 2,
  "kernelspec": {
   "name": "python388jvsc74a57bd02bd37ba5d993d67396e3193f38e60bdf0055f1491cc378354d26377554bfe451",
   "display_name": "Python 3.8.8 64-bit ('ProgCient': conda)"
  }
 },
 "nbformat": 4,
 "nbformat_minor": 2,
 "cells": [
  {
   "cell_type": "code",
   "execution_count": 42,
   "metadata": {},
   "outputs": [],
   "source": [
    "import numpy as np\n",
    "from numpy import inf as inf\n",
    "from scipy.stats import binom\n",
    "from heapq import heappush, heappop"
   ]
  },
  {
   "cell_type": "code",
   "execution_count": 8,
   "metadata": {},
   "outputs": [
    {
     "output_type": "execute_result",
     "data": {
      "text/plain": [
       "array([[0, 0, 1, 1, 0, 0, 0, 0, 0, 0],\n",
       "       [0, 0, 0, 1, 1, 1, 1, 0, 0, 0],\n",
       "       [0, 0, 0, 0, 1, 0, 0, 1, 0, 0],\n",
       "       [0, 0, 0, 0, 0, 0, 0, 1, 0, 0],\n",
       "       [0, 0, 1, 0, 0, 0, 0, 0, 0, 0],\n",
       "       [0, 0, 0, 0, 0, 0, 0, 0, 0, 0],\n",
       "       [1, 0, 0, 1, 0, 1, 0, 0, 0, 0],\n",
       "       [1, 0, 0, 0, 0, 1, 0, 1, 0, 0],\n",
       "       [0, 0, 1, 0, 0, 0, 0, 0, 0, 0],\n",
       "       [0, 1, 1, 0, 0, 0, 0, 0, 0, 0]])"
      ]
     },
     "metadata": {},
     "execution_count": 8
    }
   ],
   "source": [
    "binom.rvs(1, 0.2, size=100).reshape((10, 10))"
   ]
  },
  {
   "cell_type": "code",
   "execution_count": 23,
   "metadata": {},
   "outputs": [],
   "source": [
    "def connectGraph(graph):\n",
    "    \"\"\"\n",
    "    Esta función se asegura que la matriz de adyacencia que entra por parámetro defina\n",
    "    un grafo conexo, lo hace agragando una conexión aleatoria que llega a un nodo \n",
    "    identificado como no conexo. \n",
    "    @param graph: Matriz de adyacencia de un grafo conexo.\n",
    "    \"\"\"\n",
    "    n = len(graph)\n",
    "    for i in range(n):\n",
    "        #Suma entradas de la i esima columna sin contar la diagonal\n",
    "        incoming = np.sum(np.delete(graph[:, i], i)) \n",
    "        if incoming == 0:\n",
    "            pos = np.random.randint(0, n-1)\n",
    "            # Nos aseguramos de no poner la nueva conexión en la diagonal\n",
    "            pos = pos if pos < i else pos + 1\n",
    "            graph[pos, i] = 1\n",
    "\n",
    "\n",
    "\n",
    "def generateRandomConnectedGraph(n, sparse: float = 0.2):\n",
    "    \"\"\"\n",
    "    Esta función genera la matriz de adyacencia de un grafo dirigido, con pesos entre 1 y 50. \n",
    "    simplemente conexo y con N nodos.\n",
    "    @param n: Número de nodos del grafo\n",
    "    @param sparse: indica, en promedio, el porcentaje de vertices que llegaran y saldrán de un nodo. \n",
    "    El rango es entre 0 y 1.\n",
    "    return: Matriz de adyacencia del grafo y la matriz de pesos\n",
    "    \"\"\"\n",
    "    # Una grafo simplemente conexo tendrá, por cada columna, al menos un valor distinto de\n",
    "    # cero en las entradas que no son la perteneciente a la diagonal. i.e, para que sea\n",
    "    # conexo, por cada nodo, siempre debe haber un vertice que llega a dicho nodo\n",
    "\n",
    "    # Inicialización de los vertices del grafo. \n",
    "    adyacencia = np.double(binom.rvs(1, sparse, size=n*n).reshape((n, n)))\n",
    "    connectGraph(adyacencia)\n",
    "    pesos = np.multiply(adyacencia, np.random.randint(1, 51, (n, n)))\n",
    "    pesos[pesos == 0] = inf # Si no hay conexión a un nodo el peso es infinito\n",
    "\n",
    "    return adyacencia, pesos\n"
   ]
  },
  {
   "cell_type": "code",
   "execution_count": 102,
   "metadata": {},
   "outputs": [
    {
     "output_type": "stream",
     "name": "stdout",
     "text": [
      "[[21. inf inf inf 28. inf inf inf inf inf]\n [32. inf inf inf inf inf inf 47. 43. inf]\n [37. inf inf inf inf inf 24. inf inf 31.]\n [inf inf inf inf 26. inf inf inf inf inf]\n [inf 28. inf 10.  1. 43. inf inf 42. inf]\n [34. inf inf 18. inf 42. inf inf inf inf]\n [inf inf inf 13. 22. inf inf 30. inf inf]\n [13. inf 36. inf inf inf inf inf inf inf]\n [inf inf inf  7. inf inf inf inf inf inf]\n [inf 40. inf inf 29.  2. inf 40. inf 38.]]\n"
     ]
    }
   ],
   "source": [
    "grafo, pesos = generateRandomConnectedGraph(10, sparse = 0.3)\n",
    "print(pesos)"
   ]
  },
  {
   "cell_type": "code",
   "execution_count": 103,
   "metadata": {},
   "outputs": [
    {
     "output_type": "stream",
     "name": "stdout",
     "text": [
      "[[21. inf inf inf 28. inf inf inf inf inf]\n [32. inf inf inf inf inf inf 47. 43. inf]\n [37. inf inf inf inf inf 24. inf inf 31.]\n [inf inf inf inf 26. inf inf inf inf inf]\n [inf 28. inf 10.  1. 43. inf inf 42. inf]\n [34. inf inf 18. inf 42. inf inf inf inf]\n [inf inf inf 13. 22. inf inf 30. inf inf]\n [13. inf 36. inf inf inf inf inf inf inf]\n [inf inf inf  7. inf inf inf inf inf inf]\n [inf 40. inf inf 29.  2. inf 40. inf 38.]]\n"
     ]
    }
   ],
   "source": [
    "print(pesos)"
   ]
  },
  {
   "cell_type": "code",
   "execution_count": 106,
   "metadata": {},
   "outputs": [],
   "source": [
    "def dijkstra(pesos, init):\n",
    "\n",
    "    n = len(pesos)\n",
    "\n",
    "    dist = np.ones(n) * inf\n",
    "    visited = np.array([False for i in range(n)])\n",
    "    path = np.ones(n) * -1\n",
    "\n",
    "    dist[init] = 0\n",
    "    visited[init] = True\n",
    "\n",
    "    heap = []\n",
    "    # Priority queue. Se ordena el heap basado el la primera entrada de la tupla \n",
    "    # (distancia, posicion) que se le pasa. Sacar el mínimo es O(1)\n",
    "    heappush(heap, (dist[init], init))\n",
    "\n",
    "    while len(heap) > 0:\n",
    "\n",
    "        (minimo, nodoMin) = heappop(heap)\n",
    "        nodoMin = int(nodoMin)\n",
    "        visited[nodoMin] = True\n",
    "\n",
    "        # Se recorren los nodos con pesos menores a infinito (los vecinos)\n",
    "        for v in (v for v, peso in enumerate(pesos[nodoMin, :]) if peso < inf):\n",
    "            if not visited[v]:\n",
    "                # print('min: ',  nodoMin, 'v:', v, '-', dist[nodoMin], '-', pesos[nodoMin, v])\n",
    "\n",
    "                # Si el nodo no ha sido visitado y la distancia desde el actual es menor\n",
    "                # Entonces se actualiza su distancia\n",
    "                if dist[v] > dist[nodoMin] + pesos[nodoMin, v]:\n",
    "\n",
    "                    dist[v] = dist[nodoMin] + pesos[nodoMin, v]\n",
    "                    path[v] = nodoMin\n",
    "                    heappush(heap, (dist[v], v))\n",
    "\n",
    "    return path\n"
   ]
  },
  {
   "cell_type": "code",
   "execution_count": 104,
   "metadata": {},
   "outputs": [
    {
     "output_type": "stream",
     "name": "stdout",
     "text": [
      "min:  3 v: 4 - 0.0 - 26.0\nmin:  4 v: 1 - 26.0 - 28.0\nmin:  4 v: 5 - 26.0 - 43.0\nmin:  4 v: 8 - 26.0 - 42.0\nmin:  1 v: 0 - 54.0 - 32.0\nmin:  1 v: 7 - 54.0 - 47.0\nmin:  1 v: 8 - 54.0 - 43.0\nmin:  5 v: 0 - 69.0 - 34.0\nmin:  7 v: 2 - 101.0 - 36.0\nmin:  2 v: 6 - 137.0 - 24.0\nmin:  2 v: 9 - 137.0 - 31.0\n"
     ]
    }
   ],
   "source": [
    "path = dijkstra(pesos, 3)"
   ]
  },
  {
   "cell_type": "code",
   "execution_count": 105,
   "metadata": {},
   "outputs": [
    {
     "output_type": "stream",
     "name": "stdout",
     "text": [
      "[ 1.  4.  7. -1.  3.  4.  2.  1.  4.  2.]\n"
     ]
    }
   ],
   "source": [
    "print(path)"
   ]
  },
  {
   "cell_type": "code",
   "execution_count": 28,
   "metadata": {},
   "outputs": [
    {
     "output_type": "execute_result",
     "data": {
      "text/plain": [
       "array([38., inf, inf, inf, inf,  9., inf, inf, inf, inf])"
      ]
     },
     "metadata": {},
     "execution_count": 28
    }
   ],
   "source": [
    "pesos[3, :]"
   ]
  },
  {
   "cell_type": "code",
   "execution_count": 38,
   "metadata": {},
   "outputs": [
    {
     "output_type": "execute_result",
     "data": {
      "text/plain": [
       "3"
      ]
     },
     "metadata": {},
     "execution_count": 38
    }
   ],
   "source": [
    "np.sum(np.array([1, 2, 3])[~np.array([True, True, False])])"
   ]
  },
  {
   "cell_type": "code",
   "execution_count": 44,
   "metadata": {},
   "outputs": [
    {
     "output_type": "stream",
     "name": "stdout",
     "text": [
      "(0, 4)\n"
     ]
    }
   ],
   "source": [
    "h = []\n",
    "heappush(h, (1, 3))\n",
    "heappush(h, (0, 4))\n",
    "\n",
    "print(heappop(h))"
   ]
  },
  {
   "cell_type": "code",
   "execution_count": 66,
   "metadata": {},
   "outputs": [
    {
     "output_type": "stream",
     "name": "stdout",
     "text": [
      "0 1\n1 2\n2 3\n"
     ]
    }
   ],
   "source": [
    "for (i, n) in enumerate([1, 2, 3]):\n",
    "    print(i, n)"
   ]
  }
 ]
}