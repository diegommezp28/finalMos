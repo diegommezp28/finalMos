{
 "cells": [
  {
   "cell_type": "code",
   "execution_count": 2,
   "metadata": {},
   "outputs": [],
   "source": [
    "import numpy as np\n",
    "from numpy import inf as inf\n",
    "from scipy.stats import binom\n",
    "from heapq import heappush, heappop\n",
    "import matplotlib.pyplot as plt\n",
    "import timeit\n",
    "from pyomo.environ import *\n",
    "from pyomo.opt import SolverFactory\n",
    "from random import shuffle\n",
    "from ipywidgets import IntProgress\n",
    "from IPython.display import display"
   ]
  },
  {
   "cell_type": "code",
   "execution_count": 3,
   "metadata": {},
   "outputs": [],
   "source": [
    "def connectGraph(graph):\n",
    "    \"\"\"\n",
    "    Esta función se asegura que la matriz de adyacencia que entra por parámetro defina\n",
    "    un grafo conexo, lo hace agregando un ciclo de tamaño N donde N es el número de nodos los nodos.\n",
    "    Este ciclo pasa una sola vez por cada nodo. \n",
    "    @param graph: Matriz de adyacencia de un grafo conexo.\n",
    "    \"\"\"\n",
    "    n = len(graph)\n",
    "    nodes = list(range(n))\n",
    "    shuffle(nodes)\n",
    "\n",
    "    for i in range(n-1):\n",
    "\n",
    "        actual, sig = nodes[i], nodes[i+1]\n",
    "        graph[actual, sig] = 1\n",
    "\n",
    "    graph[nodes[-1], nodes[0]] = 1\n",
    "\n",
    "\n",
    "\n",
    "def generateRandomConnectedGraph(n, connectness: float = 0.2):\n",
    "    \"\"\"\n",
    "    Esta función genera la matriz de adyacencia de un grafo dirigido, con pesos entre 1 y 50. \n",
    "    simplemente conexo y con N nodos.\n",
    "    @param n: Número de nodos del grafo\n",
    "    @param connectness: indica, en promedio, el porcentaje de vertices que llegarán y saldrán de un nodo. \n",
    "    El rango es entre 0 y 1.\n",
    "    return: Matriz de adyacencia del grafo y la matriz de pesos\n",
    "    \"\"\"\n",
    "\n",
    "    # Inicialización de los vertices del grafo. \n",
    "    adyacencia = np.double(binom.rvs(1, connectness, size=n*n).reshape((n, n)))\n",
    "    # Nos aseguramos que sea conexo\n",
    "    connectGraph(adyacencia)\n",
    "    # Generamos los pesos\n",
    "    pesos = np.multiply(adyacencia, np.random.randint(1, 51, (n, n)))\n",
    "    # Si no hay conexión a un nodo el peso es infinito\n",
    "    pesos[pesos == 0] = inf \n",
    "\n",
    "    return adyacencia, pesos\n"
   ]
  },
  {
   "cell_type": "code",
   "execution_count": 4,
   "metadata": {},
   "outputs": [
    {
     "output_type": "stream",
     "name": "stdout",
     "text": [
      "[[inf 39.  3. inf inf inf inf 39. inf inf]\n [18. inf inf inf inf  9. inf inf  4. 31.]\n [inf 10. inf inf 46. 16. 28. inf inf inf]\n [43. inf inf inf 50. 12.  2. inf inf inf]\n [inf inf inf inf inf inf inf 38. inf inf]\n [inf  5. inf inf 28. 38. inf inf inf inf]\n [inf 27. inf inf inf inf 14.  9. inf inf]\n [inf inf inf inf  1. inf 41. 46. 14. inf]\n [inf 46. inf inf inf inf 13. inf 14. 39.]\n [inf inf inf 22. inf inf inf inf inf inf]]\n"
     ]
    }
   ],
   "source": [
    "grafo, pesos = generateRandomConnectedGraph(10, connectness = 0.2)\n",
    "print(pesos)"
   ]
  },
  {
   "cell_type": "code",
   "execution_count": 5,
   "metadata": {},
   "outputs": [
    {
     "output_type": "stream",
     "name": "stdout",
     "text": [
      "[[0. 1. 1. 0. 0. 0. 0. 1. 0. 0.]\n [1. 0. 0. 0. 0. 1. 0. 0. 1. 1.]\n [0. 1. 0. 0. 1. 1. 1. 0. 0. 0.]\n [1. 0. 0. 0. 1. 1. 1. 0. 0. 0.]\n [0. 0. 0. 0. 0. 0. 0. 1. 0. 0.]\n [0. 1. 0. 0. 1. 1. 0. 0. 0. 0.]\n [0. 1. 0. 0. 0. 0. 1. 1. 0. 0.]\n [0. 0. 0. 0. 1. 0. 1. 1. 1. 0.]\n [0. 1. 0. 0. 0. 0. 1. 0. 1. 1.]\n [0. 0. 0. 1. 0. 0. 0. 0. 0. 0.]]\n"
     ]
    }
   ],
   "source": [
    "print(grafo)"
   ]
  },
  {
   "cell_type": "code",
   "execution_count": 6,
   "metadata": {},
   "outputs": [],
   "source": [
    "def execTime(func):\n",
    "    \"\"\"\n",
    "    Definición de un decorador que se usa para retornar el tiempo \n",
    "    de ejecución de una función. \n",
    "    @param func. La función a la que se le medirá el tiempo de ejecución\n",
    "    @return time, result. \n",
    "    time: Tiempo en segundos de la ejecución de la función.\n",
    "    result: Resultado de la función. \n",
    "    \"\"\"\n",
    "    def wrapper(*args, **kwargs):\n",
    "        init_time = timeit.default_timer()\n",
    "        result = func(*args, **kwargs)\n",
    "        stop_time = timeit.default_timer()\n",
    "        total = stop_time - init_time\n",
    "        return total, result\n",
    "    return wrapper"
   ]
  },
  {
   "cell_type": "code",
   "execution_count": 7,
   "metadata": {},
   "outputs": [],
   "source": [
    "def getPathToEnd(end, dijkstraPath):\n",
    "    actual = int(end)\n",
    "    path = []\n",
    "    while actual != -1:\n",
    "        path.append(actual)\n",
    "        actual = int(dijkstraPath[actual])\n",
    "    return path\n",
    "\n",
    "\n",
    "@execTime\n",
    "def dijkstra(pesos, init, end):\n",
    "    \"\"\" \n",
    "    Implementación eficiente de Dijkstra usando priority queue con la librería\n",
    "    de Python heapq (no hay que descargarla, hace parte del core de Python)\n",
    "    @param pesos: Matriz de pesos de grafo dirigido. Solo positivos.\n",
    "    @param init: Nodo de inicio del algoritmo. Debe estar entre 0 y len(pesos) - 1.\n",
    "    \"\"\"\n",
    "\n",
    "    # Número de nodos\n",
    "    n = len(pesos)\n",
    "\n",
    "    # Inicialización de arreglos auxiliares y el vector respuesta (path)\n",
    "    dist = np.ones(n) * inf\n",
    "    visited = np.array([False for i in range(n)])\n",
    "    path = np.ones(n) * -1\n",
    "\n",
    "    dist[init] = 0\n",
    "    visited[init] = True\n",
    "\n",
    "    heap = []\n",
    "    # Priority queue. Se ordena el heap basado en la primera entrada de la tupla \n",
    "    # (distancia, posicion) que se le pasa. Sacar el mínimo es O(1)\n",
    "    heappush(heap, (dist[init], init))\n",
    "\n",
    "    while len(heap) > 0:\n",
    "\n",
    "        (minimo, nodoMin) = heappop(heap)\n",
    "        nodoMin = int(nodoMin)\n",
    "        visited[nodoMin] = True\n",
    "\n",
    "        # Se recorren los nodos con pesos menores a infinito (los vecinos)\n",
    "        for v in (v for v, peso in enumerate(pesos[nodoMin, :]) if peso < inf):\n",
    "            if not visited[v]:\n",
    "                # print('min: ',  nodoMin, 'v:', v, '-', dist[nodoMin], '-', pesos[nodoMin, v])\n",
    "\n",
    "                # Si el nodo no ha sido visitado y la distancia desde el actual es menor\n",
    "                # Entonces se actualiza su distancia\n",
    "                if dist[v] > dist[nodoMin] + pesos[nodoMin, v]:\n",
    "\n",
    "                    dist[v] = dist[nodoMin] + pesos[nodoMin, v]\n",
    "                    path[v] = nodoMin\n",
    "                    heappush(heap, (dist[v], v))\n",
    "\n",
    "    pathToEnd = getPathToEnd(end, path)\n",
    "\n",
    "    return path, pathToEnd\n"
   ]
  },
  {
   "cell_type": "code",
   "execution_count": 9,
   "metadata": {},
   "outputs": [
    {
     "output_type": "stream",
     "name": "stdout",
     "text": [
      "La función demoró: 0.17079999997804407 ms corriendo\n[ 1.  5.  0. -1.  7.  3.  3.  6.  1.  1.]\n"
     ]
    }
   ],
   "source": [
    "time, (path, pathToEnd) = dijkstra(pesos, 3, 4)\n",
    "print('La función demoró:', time*1000, 'ms corriendo')\n",
    "print(path)"
   ]
  },
  {
   "cell_type": "code",
   "execution_count": 10,
   "metadata": {
    "scrolled": true
   },
   "outputs": [],
   "source": [
    "@execTime\n",
    "def opti(pesos, init, fin):\n",
    "    Model = ConcreteModel()\n",
    "\n",
    "    # SETS & PARAMETERS********************************************************************\n",
    "    numNodes = len(pesos)\n",
    "\n",
    "    N = RangeSet(0, numNodes-1)\n",
    "\n",
    "    cost = dict()\n",
    "    for u in range(len(pesos)):\n",
    "        for v in range(len(pesos[u])):\n",
    "            if pesos[u][v] == inf:\n",
    "                cost[u, v] = 999\n",
    "            else:\n",
    "                cost[u, v] = pesos[u][v]\n",
    "\n",
    "    # print(cost)\n",
    "    \"\"\"\n",
    "    cost={(1,1):999, (1,2):5,   (1,3):2,   (1,4):999, (1,5):999,\\\n",
    "          (2,1):999, (2,2):999, (2,3):999, (2,4):999, (2,5):8,\\\n",
    "          (3,1):999, (3,2):999, (3,3):999, (3,4):3,   (3,5):999,\\\n",
    "          (4,1):999, (4,2):999, (4,3):999, (4,4):999, (4,5):2,\\\n",
    "          (5,1):999, (5,2):999, (5,3):999, (5,4):999, (5,5):999}\n",
    "    \"\"\"\n",
    "\n",
    "    # VARIABLES****************************************************************************\n",
    "    Model.x = Var(N, N, domain=Binary)\n",
    "\n",
    "    # OBJECTIVE FUNCTION*******************************************************************\n",
    "    Model.obj = Objective(expr=sum(Model.x[i, j] * cost[i, j] for i in N for j in N))\n",
    "\n",
    "    # CONSTRAINTS**************************************************************************\n",
    "    def source_rule(Model, i):\n",
    "        if i == init:\n",
    "            return sum(Model.x[i, j] for j in N) == 1\n",
    "        else:\n",
    "            return Constraint.Skip\n",
    "\n",
    "    Model.source = Constraint(N, rule=source_rule)\n",
    "\n",
    "    def destination_rule(Model, j):\n",
    "        if j == fin:\n",
    "            return sum(Model.x[i, j] for i in N) == 1\n",
    "        else:\n",
    "            return Constraint.Skip\n",
    "\n",
    "    Model.destination = Constraint(N, rule=destination_rule)\n",
    "\n",
    "    def intermediate_rule(Model, i):\n",
    "        if i != init and i != fin:\n",
    "            return sum(Model.x[i, j] for j in N) - sum(Model.x[j, i] for j in N) == 0\n",
    "        else:\n",
    "            return Constraint.Skip\n",
    "\n",
    "    Model.intermediate = Constraint(N, rule=intermediate_rule)\n",
    "\n",
    "    # APPLYING THE SOLVER******************************************************************\n",
    "    SolverFactory('glpk').solve(Model)\n",
    "\n",
    "    # Model.display()\n",
    "    \n",
    "    return 0"
   ]
  },
  {
   "cell_type": "code",
   "execution_count": 11,
   "metadata": {},
   "outputs": [],
   "source": [
    "def graphExecutionTimes(samples=50, maxNodes=200, connectness = 0.5):\n",
    "    \"\"\"\n",
    "    Función principal que se encarga de graficar el tiempo de ejecución de Dijkstra y \n",
    "    optimización dado el crecimiento de los nodos.\n",
    "\n",
    "    @param samples: Número de muestras de grafos que se generarán por cada incremento en el \n",
    "    número de nodos. Los resultados graficados será el promedio de estas muestras\n",
    "    @param masNodes: Número máximo de nodos a evaluar. Se empieza con grafos de 5 nodos y aumenta\n",
    "    progresivamente el número de nodos hasta este valor.\n",
    "    @param connectness: Qué tan conectados van a estar los grafos creados. Toma un valor entre 0 y 1. \n",
    "    Que este en 0 no significa que el grafo no sea conexo, siempre nos aseguramos que cualquier grafo\n",
    "    generado sea conexo. A grandes rasgos este número indica, para un nodo, el porcentaje del total de\n",
    "    nodos conectados a él. \n",
    "    \"\"\"\n",
    "\n",
    "    dijkstraTimes = []\n",
    "    optiTimes = []\n",
    "    max_count = maxNodes - 6\n",
    "    f = IntProgress(min=0, max=max_count)\n",
    "    display(f)\n",
    "\n",
    "    for n in range(5, maxNodes):\n",
    "        f.value += 1 # signal to increment the progress bar\n",
    "\n",
    "        sampleTimeDij = []\n",
    "        sampleTimeOpti = []\n",
    "        # print(n)\n",
    "\n",
    "        for sample in range(samples):\n",
    "            # Genera un grafo conexo de n nodos\n",
    "            grafo, pesos = generateRandomConnectedGraph(n, connectness = connectness)\n",
    "            startNode = np.random.randint(0, n)\n",
    "            array = list((v for v in range(n) if v != startNode))\n",
    "            # print(startNode, array)\n",
    "            endNode = np.random.choice(array)\n",
    "\n",
    "            # Primero con dijkstra\n",
    "            nthTime, (path, pathToEnd) = dijkstra(pesos, startNode, endNode)\n",
    "            sampleTimeDij.append(nthTime)\n",
    "\n",
    "            # Ahora con optimización\n",
    "            nthTime, zero = opti(pesos, startNode, endNode)\n",
    "            sampleTimeOpti.append(nthTime)\n",
    "        \n",
    "        avgTime = sum(sampleTimeDij) / len(sampleTimeDij)\n",
    "        dijkstraTimes.append(avgTime)\n",
    "        \n",
    "        avgTimeOpti = sum(sampleTimeOpti) / len(sampleTimeOpti)\n",
    "        optiTimes.append(avgTimeOpti)\n",
    "        \n",
    "        # print(avgTime, avgTimeOpti)\n",
    "    \n",
    "    dijkstraTimes = np.array(dijkstraTimes)\n",
    "    optiTimes = np.array(optiTimes)\n",
    "\n",
    "    # Plot results\n",
    "    E = lambda V: V*(V-1)*connectness #Número aproximado de vertices según el algoritmo de generación\n",
    "    dijkComplFunc = lambda V: V + E(V)*np.log(V)\n",
    "\n",
    "    # Factor de Reajuste del cálculo de complejidad (Empírico)\n",
    "    C = min(np.array(dijkstraTimes[:5]))/80\n",
    "    dijkCompl = np.array([dijkComplFunc(V) for V in range(5, maxNodes)]) * C\n",
    "\n",
    "    plt.rcParams[\"figure.figsize\"] = (20,10)\n",
    "    plt.subplot(3, 1, 1)\n",
    "\n",
    "    plt.plot(list(range(5, maxNodes)), dijkstraTimes*1000, color='b', label='Tiempos usando Dijkstra')\n",
    "    plt.plot(list(range(5, maxNodes)), optiTimes*1000, color='r', label='Tiempos usando Optimización')\n",
    "    plt.plot(list(range(5, maxNodes)), \n",
    "            dijkCompl*1000, color='y', \n",
    "            label='Complejidad Teórica de Dijsktra O(V + E LogV)')\n",
    "    plt.legend()\n",
    "    plt.title('Comparación tiempos Dijsktra vs Optimización')\n",
    "    plt.xlabel('Número de Nodos')\n",
    "    plt.ylabel('Tiempo de ejecución (ms)')\n",
    "    plt.grid(1)\n",
    "\n",
    "    plt.subplot(3, 1, 2)\n",
    "    plt.plot(list(range(5, maxNodes)), dijkstraTimes*1000, color='b', label='Tiempos usando Dijkstra')\n",
    "    plt.plot(list(range(5, maxNodes)), \n",
    "            dijkCompl*1000, color='y', \n",
    "            label='Complejidad Teórica de Dijsktra O(V + E LogV)')\n",
    "    plt.legend()\n",
    "    plt.title('Comparación tiempo teórico Dijkstra vs Teórico.')\n",
    "    plt.xlabel('Número de Nodos')\n",
    "    plt.ylabel('Tiempo de ejecución (ms)')\n",
    "    plt.grid(1)\n",
    "\n",
    "    plt.subplot(3, 1, 3)\n",
    "    plt.plot(list(range(5, maxNodes)), optiTimes*1000, color='r', label='Tiempos usando Optimización')\n",
    "    plt.title('Tiempos de ejecución usando optimización.')\n",
    "    plt.xlabel('Número de Nodos')\n",
    "    plt.ylabel('Tiempo de ejecución (ms)')\n",
    "    plt.grid(1)\n",
    "    plt.tight_layout()\n",
    "    plt.show()\n",
    "\n"
   ]
  },
  {
   "cell_type": "code",
   "execution_count": 79,
   "metadata": {
    "scrolled": false
   },
   "outputs": [
    {
     "output_type": "display_data",
     "data": {
      "text/plain": "IntProgress(value=0, max=194)",
      "application/vnd.jupyter.widget-view+json": {
       "version_major": 2,
       "version_minor": 0,
       "model_id": "0dcdb1c72b084a2c87d84bff9bd1549a"
      }
     },
     "metadata": {}
    },
    {
     "output_type": "error",
     "ename": "ValueError",
     "evalue": "too many values to unpack (expected 2)",
     "traceback": [
      "\u001b[1;31m---------------------------------------------------------------------------\u001b[0m",
      "\u001b[1;31mValueError\u001b[0m                                Traceback (most recent call last)",
      "\u001b[1;32m<ipython-input-79-89bb127a9de9>\u001b[0m in \u001b[0;36m<module>\u001b[1;34m\u001b[0m\n\u001b[1;32m----> 1\u001b[1;33m \u001b[0mgraphExecutionTimes\u001b[0m\u001b[1;33m(\u001b[0m\u001b[0msamples\u001b[0m\u001b[1;33m=\u001b[0m\u001b[1;36m20\u001b[0m\u001b[1;33m,\u001b[0m \u001b[0mmaxNodes\u001b[0m\u001b[1;33m=\u001b[0m\u001b[1;36m200\u001b[0m\u001b[1;33m,\u001b[0m \u001b[0mconnectness\u001b[0m \u001b[1;33m=\u001b[0m \u001b[1;36m0.3\u001b[0m\u001b[1;33m)\u001b[0m\u001b[1;33m\u001b[0m\u001b[1;33m\u001b[0m\u001b[0m\n\u001b[0m",
      "\u001b[1;32m<ipython-input-78-06696cba849a>\u001b[0m in \u001b[0;36mgraphExecutionTimes\u001b[1;34m(samples, maxNodes, connectness)\u001b[0m\n\u001b[0;32m     36\u001b[0m \u001b[1;33m\u001b[0m\u001b[0m\n\u001b[0;32m     37\u001b[0m             \u001b[1;31m# Primero con dijkstra\u001b[0m\u001b[1;33m\u001b[0m\u001b[1;33m\u001b[0m\u001b[1;33m\u001b[0m\u001b[0m\n\u001b[1;32m---> 38\u001b[1;33m             \u001b[0mnthTime\u001b[0m\u001b[1;33m,\u001b[0m \u001b[1;33m(\u001b[0m\u001b[0mpath\u001b[0m\u001b[1;33m,\u001b[0m \u001b[0mpathToEnd\u001b[0m\u001b[1;33m)\u001b[0m \u001b[1;33m=\u001b[0m \u001b[0mdijkstra\u001b[0m\u001b[1;33m(\u001b[0m\u001b[0mpesos\u001b[0m\u001b[1;33m,\u001b[0m \u001b[0mstartNode\u001b[0m\u001b[1;33m,\u001b[0m \u001b[0mendNode\u001b[0m\u001b[1;33m)\u001b[0m\u001b[1;33m\u001b[0m\u001b[1;33m\u001b[0m\u001b[0m\n\u001b[0m\u001b[0;32m     39\u001b[0m             \u001b[0msampleTimeDij\u001b[0m\u001b[1;33m.\u001b[0m\u001b[0mappend\u001b[0m\u001b[1;33m(\u001b[0m\u001b[0mnthTime\u001b[0m\u001b[1;33m)\u001b[0m\u001b[1;33m\u001b[0m\u001b[1;33m\u001b[0m\u001b[0m\n\u001b[0;32m     40\u001b[0m \u001b[1;33m\u001b[0m\u001b[0m\n",
      "\u001b[1;31mValueError\u001b[0m: too many values to unpack (expected 2)"
     ]
    }
   ],
   "source": [
    "graphExecutionTimes(samples=20, maxNodes=200, connectness = 0.3)"
   ]
  },
  {
   "source": [
    "## Test\n"
   ],
   "cell_type": "markdown",
   "metadata": {}
  },
  {
   "cell_type": "code",
   "execution_count": 62,
   "metadata": {},
   "outputs": [
    {
     "output_type": "stream",
     "name": "stdout",
     "text": [
      "[[0. 1. 0. 0. 0.]\n [0. 0. 1. 0. 0.]\n [0. 0. 0. 0. 1.]\n [1. 0. 1. 0. 0.]\n [0. 0. 0. 1. 0.]]\n[[inf 29. inf inf inf]\n [inf inf 25. inf inf]\n [inf inf inf inf 29.]\n [18. inf 19. inf inf]\n [inf inf inf 28. inf]]\n"
     ]
    }
   ],
   "source": [
    "grafoTest, pesosTest = generateRandomConnectedGraph(5, connectness = 0.1)\n",
    "print(grafoTest)\n",
    "print(pesosTest)"
   ]
  },
  {
   "cell_type": "code",
   "execution_count": 65,
   "metadata": {},
   "outputs": [
    {
     "output_type": "stream",
     "name": "stdout",
     "text": [
      "[1, 0, 3, 4]\n"
     ]
    }
   ],
   "source": [
    "nthTime, path, pathToEnd = dijkstra(pesosTest, 4, 1)\n",
    "print(pathToEnd)"
   ]
  },
  {
   "cell_type": "code",
   "execution_count": 73,
   "metadata": {},
   "outputs": [
    {
     "output_type": "stream",
     "name": "stdout",
     "text": [
      "{(0, 0): 999, (0, 1): 29.0, (0, 2): 999, (0, 3): 999, (0, 4): 999, (1, 0): 999, (1, 1): 999, (1, 2): 25.0, (1, 3): 999, (1, 4): 999, (2, 0): 999, (2, 1): 999, (2, 2): 999, (2, 3): 999, (2, 4): 29.0, (3, 0): 18.0, (3, 1): 999, (3, 2): 19.0, (3, 3): 999, (3, 4): 999, (4, 0): 999, (4, 1): 999, (4, 2): 999, (4, 3): 28.0, (4, 4): 999}\n",
      "Model unknown\n",
      "\n",
      "  Variables:\n",
      "    x : Size=25, Index=x_index\n",
      "        Key    : Lower : Value : Upper : Fixed : Stale : Domain\n",
      "        (0, 0) :     0 :   0.0 :     1 : False : False : Binary\n",
      "        (0, 1) :     0 :   1.0 :     1 : False : False : Binary\n",
      "        (0, 2) :     0 :   0.0 :     1 : False : False : Binary\n",
      "        (0, 3) :     0 :   0.0 :     1 : False : False : Binary\n",
      "        (0, 4) :     0 :   0.0 :     1 : False : False : Binary\n",
      "        (1, 0) :     0 :   0.0 :     1 : False : False : Binary\n",
      "        (1, 1) :     0 :   0.0 :     1 : False : False : Binary\n",
      "        (1, 2) :     0 :   0.0 :     1 : False : False : Binary\n",
      "        (1, 3) :     0 :   0.0 :     1 : False : False : Binary\n",
      "        (1, 4) :     0 :   0.0 :     1 : False : False : Binary\n",
      "        (2, 0) :     0 :   0.0 :     1 : False : False : Binary\n",
      "        (2, 1) :     0 :   0.0 :     1 : False : False : Binary\n",
      "        (2, 2) :     0 :   0.0 :     1 : False : False : Binary\n",
      "        (2, 3) :     0 :   0.0 :     1 : False : False : Binary\n",
      "        (2, 4) :     0 :   0.0 :     1 : False : False : Binary\n",
      "        (3, 0) :     0 :   1.0 :     1 : False : False : Binary\n",
      "        (3, 1) :     0 :   0.0 :     1 : False : False : Binary\n",
      "        (3, 2) :     0 :   0.0 :     1 : False : False : Binary\n",
      "        (3, 3) :     0 :   0.0 :     1 : False : False : Binary\n",
      "        (3, 4) :     0 :   0.0 :     1 : False : False : Binary\n",
      "        (4, 0) :     0 :   0.0 :     1 : False : False : Binary\n",
      "        (4, 1) :     0 :   0.0 :     1 : False : False : Binary\n",
      "        (4, 2) :     0 :   0.0 :     1 : False : False : Binary\n",
      "        (4, 3) :     0 :   1.0 :     1 : False : False : Binary\n",
      "        (4, 4) :     0 :   0.0 :     1 : False : False : Binary\n",
      "\n",
      "  Objectives:\n",
      "    obj : Size=1, Index=None, Active=True\n",
      "        Key  : Active : Value\n",
      "        None :   True :  75.0\n",
      "\n",
      "  Constraints:\n",
      "    source : Size=1\n",
      "        Key : Lower : Body : Upper\n",
      "          4 :   1.0 :  1.0 :   1.0\n",
      "    destination : Size=1\n",
      "        Key : Lower : Body : Upper\n",
      "          1 :   1.0 :  1.0 :   1.0\n",
      "    intermediate : Size=3\n",
      "        Key : Lower : Body : Upper\n",
      "          0 :   0.0 :  0.0 :   0.0\n",
      "          2 :   0.0 :  0.0 :   0.0\n",
      "          3 :   0.0 :  0.0 :   0.0\n"
     ]
    }
   ],
   "source": [
    "nthTime, zero = opti(pesosTest, 4, 1)\n",
    "# print"
   ]
  }
 ],
 "metadata": {
  "kernelspec": {
   "name": "python388jvsc74a57bd02bd37ba5d993d67396e3193f38e60bdf0055f1491cc378354d26377554bfe451",
   "display_name": "Python 3.8.8 64-bit ('ProgCient': conda)"
  },
  "language_info": {
   "codemirror_mode": {
    "name": "ipython",
    "version": 3
   },
   "file_extension": ".py",
   "mimetype": "text/x-python",
   "name": "python",
   "nbconvert_exporter": "python",
   "pygments_lexer": "ipython3",
   "version": "3.8.8"
  }
 },
 "nbformat": 4,
 "nbformat_minor": 2
}