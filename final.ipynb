{
 "metadata": {
  "language_info": {
   "codemirror_mode": {
    "name": "ipython",
    "version": 3
   },
   "file_extension": ".py",
   "mimetype": "text/x-python",
   "name": "python",
   "nbconvert_exporter": "python",
   "pygments_lexer": "ipython3",
   "version": "3.8.8"
  },
  "orig_nbformat": 2,
  "kernelspec": {
   "name": "python388jvsc74a57bd02bd37ba5d993d67396e3193f38e60bdf0055f1491cc378354d26377554bfe451",
   "display_name": "Python 3.8.8 64-bit ('ProgCient': conda)"
  }
 },
 "nbformat": 4,
 "nbformat_minor": 2,
 "cells": [
  {
   "cell_type": "code",
   "execution_count": 1,
   "metadata": {},
   "outputs": [],
   "source": [
    "import numpy as np\n",
    "from scipy.stats import binom"
   ]
  },
  {
   "cell_type": "code",
   "execution_count": 8,
   "metadata": {},
   "outputs": [
    {
     "output_type": "execute_result",
     "data": {
      "text/plain": [
       "array([[0, 0, 1, 1, 0, 0, 0, 0, 0, 0],\n",
       "       [0, 0, 0, 1, 1, 1, 1, 0, 0, 0],\n",
       "       [0, 0, 0, 0, 1, 0, 0, 1, 0, 0],\n",
       "       [0, 0, 0, 0, 0, 0, 0, 1, 0, 0],\n",
       "       [0, 0, 1, 0, 0, 0, 0, 0, 0, 0],\n",
       "       [0, 0, 0, 0, 0, 0, 0, 0, 0, 0],\n",
       "       [1, 0, 0, 1, 0, 1, 0, 0, 0, 0],\n",
       "       [1, 0, 0, 0, 0, 1, 0, 1, 0, 0],\n",
       "       [0, 0, 1, 0, 0, 0, 0, 0, 0, 0],\n",
       "       [0, 1, 1, 0, 0, 0, 0, 0, 0, 0]])"
      ]
     },
     "metadata": {},
     "execution_count": 8
    }
   ],
   "source": [
    "binom.rvs(1, 0.2, size=100).reshape((10, 10))"
   ]
  },
  {
   "cell_type": "code",
   "execution_count": 11,
   "metadata": {},
   "outputs": [],
   "source": [
    "def connectGraph(graph):\n",
    "    \"\"\"\n",
    "    Esta función se asegura que la matriz de adyacencia que entra por parámetro defina\n",
    "    un grafo conexo, lo hace agragando una conexión aleatoria que llega a un nodo \n",
    "    identificado como no conexo. \n",
    "    @param graph: Matriz de adyacencia de un grafo conexo.\n",
    "    \"\"\"\n",
    "    n = len(graph)\n",
    "    for i in range(n):\n",
    "        #Suma entradas de la i esima columna sin contar la diagonal\n",
    "        incoming = np.sum(np.delete(graph[:, i], i)) \n",
    "        if incoming == 0:\n",
    "            pos = np.random.randint(0, n-1)\n",
    "            # Nos aseguramos de no poner la nueva conexión en la diagonal\n",
    "            pos = pos if pos < i else pos + 1\n",
    "            graph[pos, i] = 1\n",
    "\n",
    "\n",
    "\n",
    "\n",
    "def generateRandomConnectedGraph(n, sparse: float = 0.2):\n",
    "    \"\"\"\n",
    "    Esta función genera la matriz de adyacencia de un grafo dirigido, con pesos entre 1 y 50. \n",
    "    simplemente conexo y con N nodos.\n",
    "    @param n: Número de nodos del grafo\n",
    "    @param sparse: indica, en promedio, el porcentaje de vertices que llegaran y saldrán de un nodo. \n",
    "    El rango es entre 0 y 1.\n",
    "    return: Matriz de adyacencia del grafo y la matriz de pesos\n",
    "    \"\"\"\n",
    "    # Una grafo simplemente conexo tendrá, por cada columna, al menos un valor distinto de\n",
    "    # cero en las entradas que no son la perteneciente a la diagonal. i.e, para que sea\n",
    "    # conexo, por cada nodo, siempre debe haber un vertice que llega a dicho nodo\n",
    "\n",
    "    # Inicialización de los vertices del grafo. \n",
    "    adyacencia = np.double(binom.rvs(1, sparse, size=n*n).reshape((n, n)))\n",
    "    connectGraph(adyacencia)\n",
    "    pesos = np.multiply(adyacencia, np.random.randint(1, 51, (n, n)))\n",
    "    pesos[pesos == 0] = np.inf # Si no hay conexión a un nodo el peso es infinito\n",
    "\n",
    "    return adyacencia, pesos\n"
   ]
  },
  {
   "cell_type": "code",
   "execution_count": 61,
   "metadata": {},
   "outputs": [
    {
     "output_type": "stream",
     "name": "stdout",
     "text": [
      "[[inf 34. 36. inf 38. 21. 19.  3. inf inf]\n [inf 18. inf 43. inf 42. inf inf inf inf]\n [inf inf inf inf 34. 45. 30. inf inf 10.]\n [inf 32. inf 35. inf 35. 41. inf inf 48.]\n [38. 11. 40. 47. 23. 29.  8. inf inf inf]\n [inf 11. 46. 16. 38. inf inf 43. 15. 18.]\n [inf inf inf inf inf inf inf 24. inf inf]\n [34. inf 48. 42. inf 33.  6. inf inf inf]\n [10. inf 25. 19. inf inf 36. 24. inf 48.]\n [40. 40.  4. inf 45. 42. 30. inf inf inf]]\n"
     ]
    }
   ],
   "source": [
    "grafo, pesos = generateRandomConnectedGraph(10)\n",
    "print(pesos)"
   ]
  },
  {
   "cell_type": "code",
   "execution_count": 46,
   "metadata": {},
   "outputs": [
    {
     "output_type": "stream",
     "name": "stdout",
     "text": [
      "[[45. inf 20. 33. 46. inf 21. inf 36. 16.]\n [inf 13. inf inf 13. inf inf 16. 45. inf]\n [15. inf inf 22. 30. inf 39. inf inf 50.]\n [inf inf 22. 26. inf 26. 25.  6. 47. inf]\n [inf inf 13. 47. inf inf  8. 24. inf 35.]\n [ 1. inf  7. 50. inf inf inf  2. inf inf]\n [30. 44. 32. 24. inf inf 15. 30. inf 33.]\n [inf  1. inf inf inf 49. inf 25. inf 16.]\n [49. inf inf inf inf inf inf 25. inf inf]\n [inf inf inf inf 23. 29. inf 28. inf inf]]\n"
     ]
    }
   ],
   "source": [
    "print(pesos)"
   ]
  },
  {
   "cell_type": "code",
   "execution_count": 50,
   "metadata": {},
   "outputs": [
    {
     "output_type": "execute_result",
     "data": {
      "text/plain": [
       "array([33., inf, 22., 47., 50., 24., inf, inf, inf])"
      ]
     },
     "metadata": {},
     "execution_count": 50
    }
   ],
   "source": [
    "i = 3\n",
    "np.delete(pesos[:, i], i)"
   ]
  }
 ]
}